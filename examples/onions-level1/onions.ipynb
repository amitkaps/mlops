{
 "cells": [
  {
   "cell_type": "markdown",
   "id": "a1fdd444-de85-4014-bdf6-021220dea00e",
   "metadata": {},
   "source": [
    "# Onion Forecasting"
   ]
  },
  {
   "cell_type": "markdown",
   "id": "f538593a-1df8-4a06-aa98-d8ef06a37832",
   "metadata": {},
   "source": [
    "## Setup "
   ]
  },
  {
   "cell_type": "code",
   "execution_count": 14,
   "id": "a83df79d-815b-47ca-bfb8-11ec37b51a87",
   "metadata": {},
   "outputs": [],
   "source": [
    "import pandas as pd"
   ]
  },
  {
   "cell_type": "markdown",
   "id": "faa14870-045e-4e4c-bd33-f2297abb55d0",
   "metadata": {},
   "source": [
    "## Ingest Data"
   ]
  },
  {
   "cell_type": "code",
   "execution_count": 15,
   "id": "a971daa1-302d-481d-88f4-5f1af8de4f1a",
   "metadata": {},
   "outputs": [],
   "source": [
    "df2020 = pd.read_csv(\"https://raw.githubusercontent.com/amitkaps/onions-dataset/main/data/onions-2020.csv\")\n",
    "df2021 = pd.read_csv(\"https://raw.githubusercontent.com/amitkaps/onions-dataset/main/data/onions-2021.csv\")\n",
    "df2022 = pd.read_csv(\"https://raw.githubusercontent.com/amitkaps/onions-dataset/main/data/onions-2022.csv\")"
   ]
  },
  {
   "cell_type": "code",
   "execution_count": 21,
   "id": "3b992d62-6662-4e09-932d-b826d4f61d44",
   "metadata": {},
   "outputs": [
    {
     "data": {
      "text/plain": [
       "((15753, 6), (11155, 6), (4059, 6))"
      ]
     },
     "execution_count": 21,
     "metadata": {},
     "output_type": "execute_result"
    }
   ],
   "source": [
    "df2020.shape, df2021.shape, df2022.shape"
   ]
  },
  {
   "cell_type": "code",
   "execution_count": 23,
   "id": "71f709b8-9a0f-4a86-be6b-6877cdce4f0c",
   "metadata": {},
   "outputs": [
    {
     "data": {
      "text/plain": [
       "(Index(['Date', 'Market', 'Arrival(q)', 'Price Minimum (Rs/q)',\n",
       "        'Price Maximum (Rs/q)', 'Modal Price (Rs/q)'],\n",
       "       dtype='object'),\n",
       " Index(['Date', 'Market', 'Arrival(q)', 'Price Minimum (Rs/q)',\n",
       "        'Price Maximum (Rs/q)', 'Modal Price (Rs/q)'],\n",
       "       dtype='object'),\n",
       " Index(['Date', 'Market', 'Arrival(q)', 'Price Minimum (Rs/q)',\n",
       "        'Price Maximum (Rs/q)', 'Modal Price (Rs/q)'],\n",
       "       dtype='object'))"
      ]
     },
     "execution_count": 23,
     "metadata": {},
     "output_type": "execute_result"
    }
   ],
   "source": [
    "df2020.columns, df2021.columns, df2022.columns"
   ]
  },
  {
   "cell_type": "markdown",
   "id": "83d21be6-5517-4c11-bb0f-37b67ba02228",
   "metadata": {
    "tags": []
   },
   "source": [
    "## Join Data"
   ]
  },
  {
   "cell_type": "code",
   "execution_count": 25,
   "id": "661a5dfc-4065-47bf-9518-148324ca3563",
   "metadata": {},
   "outputs": [],
   "source": [
    "df = pd.concat([df2020, df2021, df2022])"
   ]
  },
  {
   "cell_type": "code",
   "execution_count": 26,
   "id": "cc8c1b68-43f8-4658-b346-3fc2b9b68aa2",
   "metadata": {},
   "outputs": [
    {
     "data": {
      "text/plain": [
       "(30967, 6)"
      ]
     },
     "execution_count": 26,
     "metadata": {},
     "output_type": "execute_result"
    }
   ],
   "source": [
    "df.shape"
   ]
  },
  {
   "cell_type": "markdown",
   "id": "bb8e8b50-267d-4bcd-ab51-1b45ad0b8c1b",
   "metadata": {},
   "source": [
    "## Refine Data"
   ]
  },
  {
   "cell_type": "code",
   "execution_count": null,
   "id": "820559a4-021e-4f8b-b39d-62628bbd4522",
   "metadata": {},
   "outputs": [],
   "source": []
  }
 ],
 "metadata": {
  "kernelspec": {
   "display_name": "Python 3 (ipykernel)",
   "language": "python",
   "name": "python3"
  },
  "language_info": {
   "codemirror_mode": {
    "name": "ipython",
    "version": 3
   },
   "file_extension": ".py",
   "mimetype": "text/x-python",
   "name": "python",
   "nbconvert_exporter": "python",
   "pygments_lexer": "ipython3",
   "version": "3.10.4"
  }
 },
 "nbformat": 4,
 "nbformat_minor": 5
}
